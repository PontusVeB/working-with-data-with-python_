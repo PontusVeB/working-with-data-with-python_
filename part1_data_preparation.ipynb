{
 "cells": [
  {
   "cell_type": "markdown",
   "id": "1e059c23-f798-4f83-bcb7-2fe0c179bd34",
   "metadata": {},
   "source": [
    "# Part 1/2 creating random data and transorm it"
   ]
  },
  {
   "cell_type": "markdown",
   "id": "7c57cff8-e648-4f77-aba3-be075703d0ef",
   "metadata": {
    "tags": []
   },
   "source": [
    "*This project is made for Piotr Mitkowski portfolio to show some usage of data analyst python libraries to create, transform, and visual represent alphanumerical data*\n",
    "###### Imagine there a company that sells consoles, games and accesories via Internet in Central Easter Europe (Mostly in Poland, excluding Russia..). As Polish company all sales is calculated into \"PLN\" currency, Foreign sales is booked always in EUR. Data are randomly generated but distribution is set with some indicators eg. to make Polish sales highest compared with other countries\n",
    "*Bullet Points of part 1/2- used skills*\n",
    "* *1.working with pandas (creating new columns using .apply / .map / operands/ np.select/ custom functions)*\n",
    "* *2.dummy data generator using faker*\n",
    "* *3.Using API to get EUR/PLN fx*\n",
    "* *4.importing / exporting data to excel*\n",
    "* *5.export generated sales data to .json for further analysis*"
   ]
  },
  {
   "cell_type": "markdown",
   "id": "96848320-8e60-48fe-a9a2-90bdb79c3756",
   "metadata": {},
   "source": [
    "# imports"
   ]
  },
  {
   "cell_type": "code",
   "execution_count": 1,
   "id": "7b234d0b-fa1f-4c5a-93b2-023cbf0ab2e8",
   "metadata": {},
   "outputs": [],
   "source": [
    "import pandas as pd\n",
    "import numpy as np\n",
    "pd.options.mode.chained_assignment = None  # default='warn'\n",
    "\n",
    "import random # as the data is all invented it will be mostly based on this library\n",
    "from faker import Faker ##to create some dummy data\n",
    "\n",
    "from pathlib import Path\n",
    "import matplotlib.pyplot as plt\n",
    "\n",
    "#to time some of my operations\n",
    "from timeit import default_timer as timer\n",
    "\n",
    "#progress bar \n",
    "from tqdm.auto import tqdm\n",
    "\n",
    "#rquest to update NBP fx rates viaAPI\n",
    "import requests\n",
    "\n",
    "from datetime import datetime, timedelta\n",
    "from dateutil.relativedelta import relativedelta"
   ]
  },
  {
   "cell_type": "markdown",
   "id": "afc04fad-ab3f-4d79-bf10-025bc9008575",
   "metadata": {},
   "source": [
    "### date setting "
   ]
  },
  {
   "cell_type": "code",
   "execution_count": 2,
   "id": "f5042464-e6c3-440f-adce-f70495f537c1",
   "metadata": {},
   "outputs": [],
   "source": [
    "now = datetime.now()\n",
    "current_date = now.strftime(\"%Y-%m-%d\")\n",
    "current_year = now.year\n",
    "current_month = now.month"
   ]
  },
  {
   "cell_type": "markdown",
   "id": "060c45cf-65ea-4ebd-8afb-de3ff770a2c4",
   "metadata": {},
   "source": [
    "### Paths"
   ]
  },
  {
   "cell_type": "code",
   "execution_count": 3,
   "id": "ff660668-0e9f-459e-96d6-e743f1a70c29",
   "metadata": {},
   "outputs": [],
   "source": [
    "CWD = Path.cwd()\n",
    "DATA = CWD / \"DATA\"\n",
    "OUTPUT = CWD/ \"OUTPUT_\"\n",
    "SETTINGS_FILE = DATA / \"initial_data&settings.xlsx\"\n",
    "FX_RATES_FILE = DATA / \"NBP_EUR_FX_ARCHIVE.xlsx\""
   ]
  },
  {
   "cell_type": "markdown",
   "id": "d918511d-a395-469b-a878-d0c2ad7c0a78",
   "metadata": {},
   "source": [
    "# Data imports"
   ]
  },
  {
   "cell_type": "code",
   "execution_count": 4,
   "id": "67d42a1b-8c16-4c5d-b27e-0716cb507fb3",
   "metadata": {},
   "outputs": [],
   "source": [
    "# country/product initial settings\n",
    "#editing this excel files allows you to adjust datacreated as you want, you can add new countries, products, make some them return like 50% of purchases\n",
    "country_df = pd.read_excel(SETTINGS_FILE,sheet_name=\"Countries\", index_col=0)\n",
    "product_df = pd.read_excel(SETTINGS_FILE,sheet_name=\"Products\", index_col=0)\n",
    "discounts_df =pd.read_excel(SETTINGS_FILE,sheet_name=\"Discounts\", index_col=0)\n",
    "\n",
    "#FX rates\n",
    "fx_df = pd.read_excel(FX_RATES_FILE)\n",
    "\n",
    "#dictionaries for sales country/ sales product distribution \n",
    "sales_country_ind = country_df[\"ind_sales_weights\"].to_dict()\n",
    "sales_product_ind = product_df[\"ind_sales_weights\"].to_dict()\n",
    "sales_country_names = country_df[\"official_name_en\"].to_dict()\n",
    "country_infl_ind= country_df[\"ind_inflationRate\"].to_dict()\n",
    "discounts_rates_dict = discounts_df['discount_rate'].to_dict()"
   ]
  },
  {
   "cell_type": "markdown",
   "id": "bc722d10-0339-4f92-a11d-efc06a9c874c",
   "metadata": {
    "tags": []
   },
   "source": [
    "### my helpfer methods --> saved as external library"
   ]
  },
  {
   "cell_type": "code",
   "execution_count": 5,
   "id": "a885f368-def6-45c0-92d3-4f0251de0a12",
   "metadata": {},
   "outputs": [
    {
     "name": "stdout",
     "output_type": "stream",
     "text": [
      "Overwriting DATA/helper_methods.py\n"
     ]
    }
   ],
   "source": [
    "%%writefile DATA/helper_methods.py\n",
    "from datetime import datetime, timedelta\n",
    "import pandas as pd\n",
    "import random\n",
    "import requests\n",
    "\n",
    "#API method to update fx\n",
    "def getFXs(start_date: datetime, stop_date: datetime, currencyCode: str) -> pd.DataFrame:\n",
    "    \"\"\"\n",
    "    get fx rates from NBP api to PLN. Unfortunately api does not allows more period than 90 days meaning stop - start < 90 days. This returns pandas DataFrame\n",
    "    \"\"\"\n",
    "    #shift to string data\n",
    "    start_date,stop_date = start_date.strftime(\"%Y-%m-%d\"),stop_date.strftime(\"%Y-%m-%d\")\n",
    "    url_template = f\"http://api.nbp.pl/api/exchangerates/rates/a/{currencyCode}/{start_date}/{stop_date}/\"\n",
    "    request = requests.get(url_template).json()\n",
    "    df_fx = pd.json_normalize(data=request, record_path='rates')\n",
    "\n",
    "    return df_fx\n",
    "\n",
    "def string_date_to_date_time(string_date: str) ->datetime:\n",
    "    return datetime(int(string_date[:4]), \n",
    "                               int(string_date[5:7]),\n",
    "                               int(string_date[-2:]))\n",
    "\n",
    "def last_day_of_month(date: datetime) -> datetime:\n",
    "    thirty = [4,6,9,11]\n",
    "    thirty_one = [1,3,5,7,8,10,12]\n",
    "    if (date.month in thirty):\n",
    "        return datetime(date.year, date.month, 30)\n",
    "    elif (date.month in thirty_one):\n",
    "        return datetime(date.year, date.month, 31)\n",
    "    elif ((date.year % 4 == 0 and date.year % 100 !=0) or (date.year % 400 == 0)):\n",
    "        return datetime(date.year, date.month, 29)\n",
    "    else:\n",
    "        return datetime(date.year, date.month, 28)\n",
    "    \n",
    "def random_date_day(year: int,month: int, ):\n",
    "    max = last_day_of_month(datetime(year,month,1)).day\n",
    "    #print(max)\n",
    "    day = random.randint(1,max)\n",
    "    date=datetime(year,month,day).strftime(\"%Y-%m-%d\")\n",
    "    return pd.Series([date,day])\n",
    "\n",
    "def month_number_to_name(x: int):\n",
    "    dict_month = {1:\"January\",2:\"February\",3:\"March\",4:\"April\",5:\"May\",6:\"June\",7:\"July\",8:\"August\",9:\"September\",10:\"October\",11:\"November\",12:\"December\"}\n",
    "    return dict_month[x]\n",
    "\n",
    "def random_weightbased_columnbased(df: pd.DataFrame, column: str):\n",
    "    x = random.choices(df.index,weights=df[column].values)\n",
    "    return x[0]"
   ]
  },
  {
   "cell_type": "code",
   "execution_count": 6,
   "id": "50d4f5ca-2cf4-4235-a6ed-758f4a122811",
   "metadata": {},
   "outputs": [],
   "source": [
    "#import above\n",
    "from DATA.helper_methods import getFXs, string_date_to_date_time, last_day_of_month, random_date_day, month_number_to_name, random_weightbased_columnbased"
   ]
  },
  {
   "cell_type": "markdown",
   "id": "7f1b7765-f1a7-4ca5-b3f4-cedb97af5c11",
   "metadata": {},
   "source": [
    "### fx update via NBP API"
   ]
  },
  {
   "cell_type": "code",
   "execution_count": 7,
   "id": "0d2ae545-38dc-46e0-abaa-883ae05bbe1d",
   "metadata": {},
   "outputs": [],
   "source": [
    "last_update_date = fx_df['effectiveDate'].max()\n",
    "#in datetime format\n",
    "last_update_date_dt = string_date_to_date_time(last_update_date)\n",
    "#update if update time is < now\n",
    "if (last_update_date_dt + timedelta(days=1) < now):\n",
    "    #print(\"checked\")\n",
    "    try:\n",
    "        fx_df = pd.concat([fx_df,getFXs(last_update_date_dt + timedelta(days=1), now, \"EUR\")])\n",
    "    except:\n",
    "        print(\"No new fx data in NBA\")\n",
    "    #also updates the file\n",
    "    else:\n",
    "        fx_df.to_excel((FX_RATES_FILE), index=0)"
   ]
  },
  {
   "cell_type": "code",
   "execution_count": 8,
   "id": "4ed44eee-9191-4846-b8b4-f130b60bb619",
   "metadata": {},
   "outputs": [],
   "source": [
    "#check for empty dates (weekends) and fill it with previous fx\n",
    "test_start = string_date_to_date_time(fx_df['effectiveDate'].min())\n",
    "test_end= string_date_to_date_time(fx_df['effectiveDate'].max())\n",
    "days_range = (test_end - test_start).days\n",
    "for single_date in (test_start + timedelta(n) for n in range(days_range+1)):\n",
    "    #check for empty dates\n",
    "    if len(fx_df[fx_df['effectiveDate']==single_date.strftime(\"%Y-%m-%d\")])==0:\n",
    "        #print(\"weszło\")\n",
    "        previous_day=single_date-timedelta(1)\n",
    "        row = {\"no\": fx_df[fx_df['effectiveDate']==previous_day.strftime(\"%Y-%m-%d\")]['no'].values[0],\n",
    "               \"effectiveDate\" : single_date.strftime(\"%Y-%m-%d\"),\n",
    "               \"mid\": fx_df[fx_df['effectiveDate']==previous_day.strftime(\"%Y-%m-%d\")]['mid'].values[0]}\n",
    "        #adding row to df\n",
    "        #fx_df = fx_df.append(row,ignore_index=True)\n",
    "        row = pd.DataFrame(data=[row.values()], columns=row.keys())\n",
    "        fx_df = pd.concat([fx_df,row],ignore_index=True)\n",
    "    #print(fx_df['effectiveDate'] == single_date.strftime(\"%Y-%m-%d\"))\n",
    "#sort adjusted table by date\n",
    "fx_df.sort_values(by=['effectiveDate'], inplace=True , ascending=True)\n",
    "fx_df.to_excel((FX_RATES_FILE), index=0)"
   ]
  },
  {
   "cell_type": "code",
   "execution_count": 9,
   "id": "d457302c-029c-45bc-9280-38d04ede51cf",
   "metadata": {},
   "outputs": [],
   "source": [
    "#making dictionary from dataframe --> easier to map fxes\n",
    "fx_dict = fx_df.set_index('effectiveDate')['mid'].to_dict()"
   ]
  },
  {
   "cell_type": "markdown",
   "id": "8bae32a6-8232-494e-a4fb-fc37fc292f58",
   "metadata": {},
   "source": [
    "# Indicators settings"
   ]
  },
  {
   "cell_type": "code",
   "execution_count": 10,
   "id": "461d2c3a-1115-428e-80ed-7e1daaa6261b",
   "metadata": {},
   "outputs": [],
   "source": [
    "volume_ind = {1: 0.6, 2: 0.25, 3:0.05, 4:0.04, 5:0.03, 6:0.02, 7:0.01} #show volume distribution per order -> mostly ppl order 1 item\n",
    "month_sales_ind = {1: 0.5,2: 0.8,3: 1,4: 1,5: 1.3,6: 1.3,7: 1,8: 1,9: 1.3,10: 1.5,11: 1.8,12: 2} #this are sales weights per month -> to model seasonal of sales in game industry e.g. Christmas sales etc\n"
   ]
  },
  {
   "cell_type": "code",
   "execution_count": 11,
   "id": "998cc46f-108c-4806-88c6-2bc25bcf9061",
   "metadata": {},
   "outputs": [],
   "source": [
    "#dummy data Dictionaries to generate names, cities from each country\n",
    "dummy_sets_dict = {}\n",
    "for i in country_df.index:\n",
    "    #print(country_df.loc[i][\"faker_code\"])\n",
    "    dummy_sets_dict[i] = Faker(country_df.loc[i][\"faker_code\"])"
   ]
  },
  {
   "cell_type": "markdown",
   "id": "018f684a-70f0-441c-bb93-725df9b022f0",
   "metadata": {},
   "source": [
    "# Data Creation"
   ]
  },
  {
   "cell_type": "markdown",
   "id": "851751e8-8657-498d-a30d-1c91e6fa2a10",
   "metadata": {},
   "source": [
    "### main generating method"
   ]
  },
  {
   "cell_type": "code",
   "execution_count": 12,
   "id": "b9eed50b-5145-4225-955e-5a38d887acdd",
   "metadata": {},
   "outputs": [],
   "source": [
    "## method to generate data per one year\n",
    "def create_data_per_year(year: int,\n",
    "                         size: int,\n",
    "                         year_count: int,\n",
    "                        ) ->pd.DataFrame:\n",
    "    \"\"\"putting generating data process into method to make it easier to use in further loop. This requires year number, size number, and year_count(for inflation purposes) --> year_count = 0 means starting prices without inflation impact \"\"\"\n",
    "    df = pd.DataFrame()\n",
    "    ####=====////======\\\\\\\\\\\\\\\\ COLUMS Creations========////===START===\\\\\\\\\\\\\\\\\n",
    "    #Weighted randoms\n",
    "    df[\"sales_country_code\"] = random.choices(list(sales_country_ind.keys()),weights=list(sales_country_ind.values()), k=size)\n",
    "    df[\"sales_country_name\"] = df[\"sales_country_code\"].map(sales_country_names)\n",
    "    df[\"sales_region_name\"] = df[\"sales_country_code\"].map(country_df['region_name'])\n",
    "    df[\"product_ID\"] = random.choices(list(sales_product_ind.keys()),weights=list(sales_product_ind.values()), k=size)\n",
    "    df[\"product_name\"] = df[\"product_ID\"].map(product_df[\"product_name\"])\n",
    "    df[\"product_category\"] = df[\"product_ID\"].map(product_df[\"main_category\"])\n",
    "    df[\"volume\"] = random.choices(list(volume_ind.keys()),weights=list(volume_ind.values()), k=size)\n",
    "    df['transaction_type'] = \"gross\"\n",
    "    df[\"sales_currency\"] = df[\"sales_country_code\"].map(country_df[\"sales_currency\"])\n",
    "\n",
    "    df['year'] = year\n",
    "    df['month'] = random.choices(list(month_sales_ind.keys()),weights=list(month_sales_ind.values()), k=size)\n",
    "    df[['date','day']] = df['month'].apply(lambda x: random_date_day(year, x))\n",
    "    df['city'] = df[\"sales_country_code\"].apply(lambda x: dummy_sets_dict[x].city())\n",
    "    df['user'] = df[\"sales_country_code\"].apply(lambda x: dummy_sets_dict[x].user_name())\n",
    "    df['email'] = df[\"sales_country_code\"].apply(lambda x: dummy_sets_dict[x].email())\n",
    "\n",
    "    #BASED ON Other columns\n",
    "    #discounts based on month\n",
    "    df['discount_code'] = df['month'].apply(lambda x: random_weightbased_columnbased(discounts_df, month_number_to_name(x)))\n",
    "    df['discount_rate'] = df['discount_code'].map(discounts_rates_dict)\n",
    "    df['discount_description'] = df['discount_code'].map(discounts_df['discount_description'])\n",
    "\n",
    "    #sales_price_based --> based on currency --> includes yearly inflation rate => per product code\n",
    "    #helper column\n",
    "    df['_hc_inflation_impact'] = df['sales_country_code'].apply(lambda x: ((1+country_infl_ind[x])**year_count)) # to be removed\n",
    "    df['sales_price_in_currency'] = round(df.apply(lambda x: product_df[\"starting_price_\"+x.sales_currency].loc[x.product_ID], axis=1) * df['_hc_inflation_impact'],0)\n",
    "    df['discounted_price_in_currency'] = round(df['sales_price_in_currency'] * (1-df['discount_rate']),2)\n",
    "    df['total_value_in_currency'] = df[\"volume\"] * df['discounted_price_in_currency']\n",
    "\n",
    "    #values IN PLN\n",
    "    df['EUR/PLN'] = df['date'].map(fx_dict)\n",
    "    conditions = [(df[\"sales_currency\"]==\"EUR\"),\n",
    "                 (df[\"sales_currency\"]==\"PLN\"),\n",
    "                 ((df[\"sales_currency\"]!=\"EUR\") & (df[\"sales_currency\"]!=\"PLN\")),\n",
    "                ]\n",
    "    values = [round(df['total_value_in_currency']*df['EUR/PLN'],2),\n",
    "             (df['total_value_in_currency']),\n",
    "             \"New-Currency\"]\n",
    "    df['total_value_in_pln'] = np.select(conditions, values).astype(\"float\")\n",
    "\n",
    "    #Cos & margin\n",
    "    df[\"ttl_product_cost_pln\"] = round(df[\"volume\"] *df[\"product_ID\"].map(product_df[\"starting_product_cost_PLN\"]) * df['_hc_inflation_impact'],2)\n",
    "    df[\"ttl_transportation_cost_pln\"] = round(df[\"volume\"] *df[\"product_ID\"].map(product_df[\"starting_transportation_costs_PLN\"]) * df['_hc_inflation_impact'],2)\n",
    "    #margin\n",
    "    df['ttl_margin_pln'] = df['total_value_in_pln'] - df[\"ttl_product_cost_pln\"] - df[\"ttl_transportation_cost_pln\"]\n",
    "\n",
    "    ####=====////======\\\\\\\\\\\\\\\\ COLUMS Creations========////===END===\\\\\\\\\\\\\\\\\n",
    "\n",
    "    #### RETURNS adjustment####\n",
    "    list_of_indexes_with_returns = []\n",
    "    for i in df.index:\n",
    "        if random.random() < country_df['ind_returns_prob'].to_dict()[df['sales_country_code'].loc[i]]:\n",
    "            list_of_indexes_with_returns.append(i)\n",
    "    df_returns = df.loc[list_of_indexes_with_returns].copy()\n",
    "    #adjustment -reverse sign + random volume\n",
    "    for i in df_returns.index:\n",
    "        bought_volume = df_returns['volume'].loc[i]\n",
    "        return_volume = random.randint(1, bought_volume)\n",
    "        #print(return_volume, df_returns['volume'].loc[i])\n",
    "        #adjust values\n",
    "        df_returns['volume'].loc[i] = - return_volume\n",
    "        df_returns['transaction_type'].loc[i] = \"returns\"\n",
    "        df_returns['total_value_in_currency'].loc[i] = - round(df_returns['total_value_in_currency'].loc[i] * return_volume /bought_volume,2)\n",
    "        df_returns['ttl_product_cost_pln'].loc[i] = - round(df_returns['ttl_product_cost_pln'].loc[i] * return_volume /bought_volume,2)\n",
    "        df_returns['ttl_transportation_cost_pln'].loc[i] = 0\n",
    "        df_returns['total_value_in_pln'].loc[i] = - round(df_returns['total_value_in_pln'].loc[i] * return_volume /bought_volume,2)\n",
    "        df_returns['ttl_margin_pln'].loc[i] = df_returns['total_value_in_pln'].loc[i] - df_returns['ttl_product_cost_pln'].loc[i]\n",
    "    df = pd.concat([df,df_returns],ignore_index=True)\n",
    "    df.sort_values(by=['date'], inplace=True , ascending=True)\n",
    "    df.reset_index(inplace=True,drop=True)\n",
    "    return df\n"
   ]
  },
  {
   "cell_type": "markdown",
   "id": "190b807d-ebf2-4ba4-87fd-b017f8f00622",
   "metadata": {},
   "source": [
    "### Loop through years"
   ]
  },
  {
   "cell_type": "markdown",
   "id": "6266ab26-c217-477e-b401-5cd41c75b9cd",
   "metadata": {},
   "source": [
    "lets simulate company x sales:\n",
    "1. throught 10 year since 2011 -> my EUR fx dictionary starts 2010-01-04 it updates to current date. generating data for future dates will cause empty fields for EUR fx\n",
    "2. include yearly inflation per each country\n",
    "3. include returns_rate per each country (to not make it more complex returns_date = sales_date)\n",
    "4. yearly volume increase [%] set as we want [yearly_v_inc]\n",
    "5. starting gross transactions size at given number [start_gross_vol]\n",
    "6. monthly sales distributions is set to be increased in Q4 (holidays, presents)\n",
    "7. includes diferent discounts (randomly chosen based on season)"
   ]
  },
  {
   "cell_type": "code",
   "execution_count": 13,
   "id": "2970f6b8-afdb-4c20-9d0c-ae9a54834b3c",
   "metadata": {},
   "outputs": [],
   "source": [
    "def create_data_for_period(start_year: int, end_year: int, start_gross_vol: int, yearly_v_inc: float):\n",
    "    df = pd.DataFrame()\n",
    "    for year_count in tqdm(range(end_year-start_year+1)):\n",
    "        adj_size = int(round(start_gross_vol*(1+yearly_v_inc)**year_count,0))\n",
    "        currentYear = start_year + year_count\n",
    "        #print(adj_size,currentYear)\n",
    "        df_temp = create_data_per_year(currentYear, adj_size, year_count)\n",
    "        df = pd.concat([df,df_temp],ignore_index=True)\n",
    "        \n",
    "    return df"
   ]
  },
  {
   "cell_type": "markdown",
   "id": "b058e83b-8cd8-4435-9fb0-5455e4a441c2",
   "metadata": {},
   "source": [
    "### Our output dataframe "
   ]
  },
  {
   "cell_type": "code",
   "execution_count": 14,
   "id": "e6fac68c-9193-4742-bf17-c69e4fabe382",
   "metadata": {},
   "outputs": [
    {
     "data": {
      "application/vnd.jupyter.widget-view+json": {
       "model_id": "4c89bfd955a240fbaab2f6fee6899ef4",
       "version_major": 2,
       "version_minor": 0
      },
      "text/plain": [
       "  0%|          | 0/10 [00:00<?, ?it/s]"
      ]
     },
     "metadata": {},
     "output_type": "display_data"
    },
    {
     "data": {
      "text/plain": [
       "Index(['sales_country_code', 'sales_country_name', 'sales_region_name',\n",
       "       'product_ID', 'product_name', 'product_category', 'volume',\n",
       "       'transaction_type', 'sales_currency', 'year', 'month', 'date', 'day',\n",
       "       'city', 'user', 'email', 'discount_code', 'discount_rate',\n",
       "       'discount_description', '_hc_inflation_impact',\n",
       "       'sales_price_in_currency', 'discounted_price_in_currency',\n",
       "       'total_value_in_currency', 'EUR/PLN', 'total_value_in_pln',\n",
       "       'ttl_product_cost_pln', 'ttl_transportation_cost_pln',\n",
       "       'ttl_margin_pln'],\n",
       "      dtype='object')"
      ]
     },
     "execution_count": 14,
     "metadata": {},
     "output_type": "execute_result"
    }
   ],
   "source": [
    "START_YEAR = 2011\n",
    "END_YEAR = 2020\n",
    "SIZE = 10000\n",
    "YEARLY_INC_RATE = 0.05\n",
    "\n",
    "df_final= create_data_for_period(START_YEAR,END_YEAR, SIZE, YEARLY_INC_RATE)\n",
    "df_final.columns"
   ]
  },
  {
   "cell_type": "markdown",
   "id": "2095c974-68ac-40df-ab4b-99ce9b14e265",
   "metadata": {},
   "source": [
    "## first view at final data"
   ]
  },
  {
   "cell_type": "code",
   "execution_count": 15,
   "id": "58ade428-3bf4-4777-8f20-8b68fb4410ca",
   "metadata": {},
   "outputs": [
    {
     "name": "stdout",
     "output_type": "stream",
     "text": [
      "<class 'pandas.core.frame.DataFrame'>\n",
      "RangeIndex: 136582 entries, 0 to 136581\n",
      "Data columns (total 28 columns):\n",
      " #   Column                        Non-Null Count   Dtype  \n",
      "---  ------                        --------------   -----  \n",
      " 0   sales_country_code            136582 non-null  object \n",
      " 1   sales_country_name            136582 non-null  object \n",
      " 2   sales_region_name             136582 non-null  object \n",
      " 3   product_ID                    136582 non-null  object \n",
      " 4   product_name                  136582 non-null  object \n",
      " 5   product_category              136582 non-null  object \n",
      " 6   volume                        136582 non-null  int64  \n",
      " 7   transaction_type              136582 non-null  object \n",
      " 8   sales_currency                136582 non-null  object \n",
      " 9   year                          136582 non-null  int64  \n",
      " 10  month                         136582 non-null  int64  \n",
      " 11  date                          136582 non-null  object \n",
      " 12  day                           136582 non-null  int64  \n",
      " 13  city                          136582 non-null  object \n",
      " 14  user                          136582 non-null  object \n",
      " 15  email                         136582 non-null  object \n",
      " 16  discount_code                 136582 non-null  object \n",
      " 17  discount_rate                 136582 non-null  float64\n",
      " 18  discount_description          136582 non-null  object \n",
      " 19  _hc_inflation_impact          136582 non-null  float64\n",
      " 20  sales_price_in_currency       136582 non-null  float64\n",
      " 21  discounted_price_in_currency  136582 non-null  float64\n",
      " 22  total_value_in_currency       136582 non-null  float64\n",
      " 23  EUR/PLN                       136582 non-null  float64\n",
      " 24  total_value_in_pln            136582 non-null  float64\n",
      " 25  ttl_product_cost_pln          136582 non-null  float64\n",
      " 26  ttl_transportation_cost_pln   136582 non-null  float64\n",
      " 27  ttl_margin_pln                136582 non-null  float64\n",
      "dtypes: float64(10), int64(4), object(14)\n",
      "memory usage: 29.2+ MB\n"
     ]
    }
   ],
   "source": [
    "df_final.info()"
   ]
  },
  {
   "cell_type": "code",
   "execution_count": 16,
   "id": "28a59d22-7ef1-42d5-9b1e-d222ffd1ef7e",
   "metadata": {},
   "outputs": [
    {
     "data": {
      "text/plain": [
       "29.177"
      ]
     },
     "execution_count": 16,
     "metadata": {},
     "output_type": "execute_result"
    }
   ],
   "source": [
    "starting_size_mb = round(df_final.memory_usage().sum()/1024/1024,3)\n",
    "starting_size_mb"
   ]
  },
  {
   "cell_type": "code",
   "execution_count": 17,
   "id": "8ef60c8b-9106-4d63-ab25-9b8b3b5f38d2",
   "metadata": {},
   "outputs": [
    {
     "data": {
      "text/html": [
       "<div>\n",
       "<style scoped>\n",
       "    .dataframe tbody tr th:only-of-type {\n",
       "        vertical-align: middle;\n",
       "    }\n",
       "\n",
       "    .dataframe tbody tr th {\n",
       "        vertical-align: top;\n",
       "    }\n",
       "\n",
       "    .dataframe thead th {\n",
       "        text-align: right;\n",
       "    }\n",
       "</style>\n",
       "<table border=\"1\" class=\"dataframe\">\n",
       "  <thead>\n",
       "    <tr style=\"text-align: right;\">\n",
       "      <th></th>\n",
       "      <th>no_unique_values</th>\n",
       "    </tr>\n",
       "  </thead>\n",
       "  <tbody>\n",
       "    <tr>\n",
       "      <th>sales_country_code</th>\n",
       "      <td>18</td>\n",
       "    </tr>\n",
       "    <tr>\n",
       "      <th>sales_country_name</th>\n",
       "      <td>18</td>\n",
       "    </tr>\n",
       "    <tr>\n",
       "      <th>sales_region_name</th>\n",
       "      <td>5</td>\n",
       "    </tr>\n",
       "    <tr>\n",
       "      <th>product_ID</th>\n",
       "      <td>30</td>\n",
       "    </tr>\n",
       "    <tr>\n",
       "      <th>product_name</th>\n",
       "      <td>30</td>\n",
       "    </tr>\n",
       "    <tr>\n",
       "      <th>product_category</th>\n",
       "      <td>3</td>\n",
       "    </tr>\n",
       "    <tr>\n",
       "      <th>volume</th>\n",
       "      <td>14</td>\n",
       "    </tr>\n",
       "    <tr>\n",
       "      <th>transaction_type</th>\n",
       "      <td>2</td>\n",
       "    </tr>\n",
       "    <tr>\n",
       "      <th>sales_currency</th>\n",
       "      <td>2</td>\n",
       "    </tr>\n",
       "    <tr>\n",
       "      <th>year</th>\n",
       "      <td>10</td>\n",
       "    </tr>\n",
       "    <tr>\n",
       "      <th>month</th>\n",
       "      <td>12</td>\n",
       "    </tr>\n",
       "    <tr>\n",
       "      <th>date</th>\n",
       "      <td>3653</td>\n",
       "    </tr>\n",
       "    <tr>\n",
       "      <th>day</th>\n",
       "      <td>31</td>\n",
       "    </tr>\n",
       "    <tr>\n",
       "      <th>city</th>\n",
       "      <td>26837</td>\n",
       "    </tr>\n",
       "    <tr>\n",
       "      <th>user</th>\n",
       "      <td>111829</td>\n",
       "    </tr>\n",
       "    <tr>\n",
       "      <th>email</th>\n",
       "      <td>120204</td>\n",
       "    </tr>\n",
       "    <tr>\n",
       "      <th>discount_code</th>\n",
       "      <td>5</td>\n",
       "    </tr>\n",
       "    <tr>\n",
       "      <th>discount_rate</th>\n",
       "      <td>4</td>\n",
       "    </tr>\n",
       "    <tr>\n",
       "      <th>discount_description</th>\n",
       "      <td>5</td>\n",
       "    </tr>\n",
       "    <tr>\n",
       "      <th>_hc_inflation_impact</th>\n",
       "      <td>163</td>\n",
       "    </tr>\n",
       "    <tr>\n",
       "      <th>sales_price_in_currency</th>\n",
       "      <td>765</td>\n",
       "    </tr>\n",
       "    <tr>\n",
       "      <th>discounted_price_in_currency</th>\n",
       "      <td>2380</td>\n",
       "    </tr>\n",
       "    <tr>\n",
       "      <th>total_value_in_currency</th>\n",
       "      <td>6814</td>\n",
       "    </tr>\n",
       "    <tr>\n",
       "      <th>EUR/PLN</th>\n",
       "      <td>1859</td>\n",
       "    </tr>\n",
       "    <tr>\n",
       "      <th>total_value_in_pln</th>\n",
       "      <td>67923</td>\n",
       "    </tr>\n",
       "    <tr>\n",
       "      <th>ttl_product_cost_pln</th>\n",
       "      <td>20943</td>\n",
       "    </tr>\n",
       "    <tr>\n",
       "      <th>ttl_transportation_cost_pln</th>\n",
       "      <td>2344</td>\n",
       "    </tr>\n",
       "    <tr>\n",
       "      <th>ttl_margin_pln</th>\n",
       "      <td>82566</td>\n",
       "    </tr>\n",
       "  </tbody>\n",
       "</table>\n",
       "</div>"
      ],
      "text/plain": [
       "                              no_unique_values\n",
       "sales_country_code                          18\n",
       "sales_country_name                          18\n",
       "sales_region_name                            5\n",
       "product_ID                                  30\n",
       "product_name                                30\n",
       "product_category                             3\n",
       "volume                                      14\n",
       "transaction_type                             2\n",
       "sales_currency                               2\n",
       "year                                        10\n",
       "month                                       12\n",
       "date                                      3653\n",
       "day                                         31\n",
       "city                                     26837\n",
       "user                                    111829\n",
       "email                                   120204\n",
       "discount_code                                5\n",
       "discount_rate                                4\n",
       "discount_description                         5\n",
       "_hc_inflation_impact                       163\n",
       "sales_price_in_currency                    765\n",
       "discounted_price_in_currency              2380\n",
       "total_value_in_currency                   6814\n",
       "EUR/PLN                                   1859\n",
       "total_value_in_pln                       67923\n",
       "ttl_product_cost_pln                     20943\n",
       "ttl_transportation_cost_pln               2344\n",
       "ttl_margin_pln                           82566"
      ]
     },
     "execution_count": 17,
     "metadata": {},
     "output_type": "execute_result"
    }
   ],
   "source": [
    "pd.DataFrame(df_final.nunique(),columns=[\"no_unique_values\"])"
   ]
  },
  {
   "cell_type": "markdown",
   "id": "41363fb8-eae8-4e18-8d3d-d6d10328c7d5",
   "metadata": {},
   "source": [
    "## datatransforms to make data smaller and faster in further works"
   ]
  },
  {
   "cell_type": "code",
   "execution_count": 18,
   "id": "71505c32-64a0-452a-9d1b-bc7cf0ed1568",
   "metadata": {},
   "outputs": [],
   "source": [
    "#Categorical - clearly some of attributes might be categorical as they have only a few unique values\n",
    "df_final['sales_country_code'] = df_final['sales_country_code'].astype(\"category\")\n",
    "df_final['sales_country_name'] = df_final['sales_country_name'].astype(\"category\")\n",
    "df_final['product_ID'] = df_final['product_ID'].astype(\"category\")\n",
    "df_final['product_name'] = df_final['product_name'].astype(\"category\")\n",
    "df_final['transaction_type'] = df_final['transaction_type'].astype(\"category\")\n",
    "df_final['sales_currency'] = df_final['sales_currency'].astype(\"category\")\n",
    "df_final['discount_code'] = df_final['discount_code'].astype(\"category\")\n",
    "df_final['sales_region_name'] = df_final['sales_region_name'].astype(\"category\")\n",
    "df_final['product_category'] = df_final['product_category'].astype(\"category\")\n",
    "df_final['discount_description'] = df_final['discount_description'].astype(\"category\")\n",
    "\n",
    "#numerical\n",
    "df_final['discount_rate'] = df_final['discount_rate'].astype(\"float16\")\n",
    "df_final['year'] = df_final['year'].astype(\"int16\")\n",
    "df_final['month'] = df_final['month'].astype(\"int8\")\n",
    "df_final['volume'] = df_final['volume'].astype(\"int16\")\n",
    "df_final['_hc_inflation_impact'] = df_final['_hc_inflation_impact'].astype(\"float16\")\n",
    "df_final['sales_price_in_currency'] = df_final['sales_price_in_currency'].astype(\"float16\")\n",
    "df_final['discounted_price_in_currency'] = df_final['discounted_price_in_currency'].astype(\"float16\")\n",
    "df_final['total_value_in_currency'] = df_final['total_value_in_currency'].astype(\"float32\")\n",
    "df_final['EUR/PLN'] = df_final['EUR/PLN'].astype(\"float16\")\n",
    "df_final['total_value_in_pln'] = df_final['total_value_in_pln'].astype(\"float32\")\n",
    "df_final['ttl_product_cost_pln'] = df_final['ttl_product_cost_pln'].astype(\"float32\")\n",
    "df_final['ttl_transportation_cost_pln'] = df_final['ttl_transportation_cost_pln'].astype(\"float16\")\n",
    "df_final['ttl_margin_pln'] = df_final['ttl_margin_pln'].astype(\"float32\")\n",
    "\n",
    "#strings\n",
    "df_final['city'] = df_final['city'].astype(\"string\")\n",
    "df_final['user'] = df_final['user'].astype(\"string\")\n",
    "df_final['email'] = df_final['email'].astype(\"string\")\n",
    "\n",
    "#date\n",
    "df_final['date'] = pd.to_datetime(df_final['date'])"
   ]
  },
  {
   "cell_type": "markdown",
   "id": "f70f2a82-3419-48e1-9823-1509b5a4361b",
   "metadata": {},
   "source": [
    "### impact on data size"
   ]
  },
  {
   "cell_type": "code",
   "execution_count": 19,
   "id": "31a9cfbe-353e-4d55-8756-7f966a85ef4e",
   "metadata": {},
   "outputs": [
    {
     "name": "stdout",
     "output_type": "stream",
     "text": [
      "staring data size: 29.177 MB\n",
      "after datatype adjust size: 10.8161 MB\n",
      "that save up to: 18.361 MB and around 62.93 % of memory space\n"
     ]
    }
   ],
   "source": [
    "end_size_mb = round(df_final.memory_usage().sum()/1024/1024,4)\n",
    "print(f\"staring data size: {starting_size_mb} MB\\nafter datatype adjust size: {end_size_mb} MB\")\n",
    "shrink_rate= round((starting_size_mb-end_size_mb)/starting_size_mb*100,2)\n",
    "print(f\"that save up to: {starting_size_mb-end_size_mb:.3f} MB and around {shrink_rate} % of memory space\")"
   ]
  },
  {
   "cell_type": "markdown",
   "id": "4f3fe978-1a55-495f-9f57-038bb570f7a8",
   "metadata": {},
   "source": [
    "# Exports"
   ]
  },
  {
   "cell_type": "markdown",
   "id": "aa9eec1b-bd54-4a45-bc4b-88667a2372f7",
   "metadata": {},
   "source": [
    "#### to CSV"
   ]
  },
  {
   "cell_type": "code",
   "execution_count": 20,
   "id": "a5aa6b97-de1a-4b95-9c6c-3a3350f5c377",
   "metadata": {},
   "outputs": [],
   "source": [
    "#commented this as the .csv file weight to much and doesnt save column types\n",
    "#%timeit df_final.to_csv(OUTPUT/f\"SALES_DATA {current_date}.csv\", index=0)"
   ]
  },
  {
   "cell_type": "markdown",
   "id": "74a39c55-1732-42f1-a8f4-d4fe5edf1e6c",
   "metadata": {},
   "source": [
    "#### to excel"
   ]
  },
  {
   "cell_type": "code",
   "execution_count": 21,
   "id": "43de7375-dc5d-48c1-bf24-dd6710ed749a",
   "metadata": {},
   "outputs": [],
   "source": [
    "#commented this this was time consuming for larger that\n",
    "#%timeit df_final.to_excel(OUTPUT/f\"SALES_DATA {current_date}.xlsx\", index=0)"
   ]
  },
  {
   "cell_type": "markdown",
   "id": "4c3866fb-d49d-4306-aae6-02f1be612125",
   "metadata": {},
   "source": [
    "#### to pickle"
   ]
  },
  {
   "cell_type": "code",
   "execution_count": 22,
   "id": "200bf909-bd1e-47d6-9c66-f26938676965",
   "metadata": {},
   "outputs": [
    {
     "name": "stdout",
     "output_type": "stream",
     "text": [
      "77 ms ± 4.64 ms per loop (mean ± std. dev. of 7 runs, 10 loops each)\n"
     ]
    }
   ],
   "source": [
    "%timeit df_final.to_pickle(OUTPUT/f\"SALES_DATA {current_date}.pickle\")"
   ]
  },
  {
   "cell_type": "code",
   "execution_count": 23,
   "id": "17006d52-e22d-48a6-98ca-dde92a02aea1",
   "metadata": {},
   "outputs": [
    {
     "name": "stdout",
     "output_type": "stream",
     "text": [
      "55.1 ms ± 2.06 ms per loop (mean ± std. dev. of 7 runs, 10 loops each)\n"
     ]
    }
   ],
   "source": [
    "%timeit df_read = pd.read_pickle(OUTPUT/f\"SALES_DATA {current_date}.pickle\")\n",
    "df_read = pd.read_pickle(OUTPUT/f\"SALES_DATA {current_date}.pickle\")"
   ]
  },
  {
   "cell_type": "markdown",
   "id": "73c786f1-3e7d-4086-8e84-308478047576",
   "metadata": {},
   "source": [
    "## quick check on imported data"
   ]
  },
  {
   "cell_type": "code",
   "execution_count": 24,
   "id": "81a69164-45c5-4ea4-90b2-d0c1ed9ffaf1",
   "metadata": {},
   "outputs": [
    {
     "data": {
      "text/plain": [
       "array([2011, 2012, 2013, 2014, 2015, 2016, 2017, 2018, 2019, 2020],\n",
       "      dtype=int16)"
      ]
     },
     "execution_count": 24,
     "metadata": {},
     "output_type": "execute_result"
    }
   ],
   "source": [
    "df_read['year'].unique()"
   ]
  },
  {
   "cell_type": "code",
   "execution_count": 35,
   "id": "3a84d19c-2b79-4033-967a-dd5251769543",
   "metadata": {},
   "outputs": [
    {
     "data": {
      "text/plain": [
       "(136582, 28)"
      ]
     },
     "execution_count": 35,
     "metadata": {},
     "output_type": "execute_result"
    }
   ],
   "source": [
    "df_read.shape"
   ]
  },
  {
   "cell_type": "code",
   "execution_count": 25,
   "id": "167f6a42-d7d4-4f5e-a777-61a3d2982e5a",
   "metadata": {},
   "outputs": [
    {
     "name": "stdout",
     "output_type": "stream",
     "text": [
      "<class 'pandas.core.frame.DataFrame'>\n",
      "RangeIndex: 136582 entries, 0 to 136581\n",
      "Data columns (total 28 columns):\n",
      " #   Column                        Non-Null Count   Dtype         \n",
      "---  ------                        --------------   -----         \n",
      " 0   sales_country_code            136582 non-null  category      \n",
      " 1   sales_country_name            136582 non-null  category      \n",
      " 2   sales_region_name             136582 non-null  category      \n",
      " 3   product_ID                    136582 non-null  category      \n",
      " 4   product_name                  136582 non-null  category      \n",
      " 5   product_category              136582 non-null  category      \n",
      " 6   volume                        136582 non-null  int16         \n",
      " 7   transaction_type              136582 non-null  category      \n",
      " 8   sales_currency                136582 non-null  category      \n",
      " 9   year                          136582 non-null  int16         \n",
      " 10  month                         136582 non-null  int8          \n",
      " 11  date                          136582 non-null  datetime64[ns]\n",
      " 12  day                           136582 non-null  int64         \n",
      " 13  city                          136582 non-null  string        \n",
      " 14  user                          136582 non-null  string        \n",
      " 15  email                         136582 non-null  string        \n",
      " 16  discount_code                 136582 non-null  category      \n",
      " 17  discount_rate                 136582 non-null  float16       \n",
      " 18  discount_description          136582 non-null  category      \n",
      " 19  _hc_inflation_impact          136582 non-null  float16       \n",
      " 20  sales_price_in_currency       136582 non-null  float16       \n",
      " 21  discounted_price_in_currency  136582 non-null  float16       \n",
      " 22  total_value_in_currency       136582 non-null  float32       \n",
      " 23  EUR/PLN                       136582 non-null  float16       \n",
      " 24  total_value_in_pln            136582 non-null  float32       \n",
      " 25  ttl_product_cost_pln          136582 non-null  float32       \n",
      " 26  ttl_transportation_cost_pln   136582 non-null  float16       \n",
      " 27  ttl_margin_pln                136582 non-null  float32       \n",
      "dtypes: category(10), datetime64[ns](1), float16(6), float32(4), int16(2), int64(1), int8(1), string(3)\n",
      "memory usage: 10.8 MB\n"
     ]
    }
   ],
   "source": [
    "df_read.info()"
   ]
  },
  {
   "cell_type": "code",
   "execution_count": null,
   "id": "cef196f3-257e-4df6-afcc-f67123ebb4a6",
   "metadata": {},
   "outputs": [
    {
     "data": {
      "text/plain": [
       "1698846.5"
      ]
     },
     "execution_count": 26,
     "metadata": {},
     "output_type": "execute_result"
    }
   ],
   "source": [
    "condition = (df_read['sales_country_name']==\"Serbia\") & (df_read['year'] == 2020)\n",
    "df_read[condition]['total_value_in_pln'].sum()"
   ]
  },
  {
   "cell_type": "markdown",
   "id": "8aa227f3-e112-4287-b00c-ce921800073b",
   "metadata": {},
   "source": [
    "### in part 2of2 I will work with data created in this file and saved as .pickle."
   ]
  },
  {
   "cell_type": "markdown",
   "id": "4ded1277-ee56-4c67-8d94-a647355896c1",
   "metadata": {},
   "source": [
    "# Notes"
   ]
  },
  {
   "cell_type": "code",
   "execution_count": 27,
   "id": "27fe0b08-f815-4eb8-9a73-427dbef8cb43",
   "metadata": {},
   "outputs": [],
   "source": [
    "#random.choices([\"test1\",\"test\",\"test4\"],weights=(0.5,0.3,0.2), k=100)"
   ]
  },
  {
   "cell_type": "code",
   "execution_count": 28,
   "id": "a8b262a7-67db-4076-a6b7-88a6c58e847d",
   "metadata": {},
   "outputs": [],
   "source": [
    "#start_date = datetime(2010,1,1)\n",
    "#stop_date = start_date  + timedelta(days=90)\n",
    "\n",
    "#all_data_list = []\n",
    "#while (start_date <now):\n",
    "#    all_data_list.append(getFXs(start_date, stop_date, \"EUR\"))\n",
    "#    start_date = stop_date + timedelta(days=1)\n",
    "#    stop_date = start_date + timedelta(days=90)\n",
    "#all_data_df = pd.concat(all_data_list)\n",
    "#all_data_df.to_excel((FX_RATES_FILE), index=0)"
   ]
  },
  {
   "cell_type": "code",
   "execution_count": 29,
   "id": "3008153e-b6f1-42b2-bc8a-4a3a237679ce",
   "metadata": {},
   "outputs": [],
   "source": [
    "#row = {\"no\": fx_df[fx_df['effectiveDate']==\"2023-02-05\"]['no'].values[0],\n",
    "#               \"effectiveDate\" : \"2023-02-04\",\n",
    "#               \"mid\": fx_df[fx_df['effectiveDate']==\"2023-02-05\"]['mid'].values[0]}\n",
    "#test = pd.DataFrame(data=[row.values()], columns=row.keys())"
   ]
  },
  {
   "cell_type": "code",
   "execution_count": 30,
   "id": "e08f8d5b-898b-414e-bf1e-fa51607acc3d",
   "metadata": {},
   "outputs": [],
   "source": [
    "#d_list = []\n",
    "#for i in range(1000):\n",
    "#    d_list.append(random_date_day(2021,2))\n",
    "#d_list"
   ]
  },
  {
   "cell_type": "code",
   "execution_count": 31,
   "id": "1b31fb1e-f4ed-41f1-a2f2-32bd7c308309",
   "metadata": {},
   "outputs": [],
   "source": [
    "#pd.DataFrame(df.value_counts('sales_country_code'), columns=['total_lines'])"
   ]
  },
  {
   "cell_type": "code",
   "execution_count": 32,
   "id": "d60f77e7-da24-490b-8ceb-e8b810e8e583",
   "metadata": {},
   "outputs": [],
   "source": [
    "#month = 4\n",
    "#list(discounts_df[month_number_to_name(month)].values), discounts_df[month_number_to_name(month)].index.to_list()"
   ]
  },
  {
   "cell_type": "code",
   "execution_count": 33,
   "id": "b3aa1ec0-e833-4604-8c92-ec307dcd9312",
   "metadata": {},
   "outputs": [],
   "source": [
    "#((1+df[\"sales_country_code\"].map(country_infl_ind))**year_count)"
   ]
  },
  {
   "cell_type": "code",
   "execution_count": 34,
   "id": "19f0e856-07ac-4a4a-b0b7-e7d708712e56",
   "metadata": {},
   "outputs": [],
   "source": [
    "#len(list_of_indexes_with_returns) , len(df), str(len(list_of_indexes_with_returns)/len(df)*100) + \" %\""
   ]
  }
 ],
 "metadata": {
  "kernelspec": {
   "display_name": "Python 3 (ipykernel)",
   "language": "python",
   "name": "python3"
  },
  "language_info": {
   "codemirror_mode": {
    "name": "ipython",
    "version": 3
   },
   "file_extension": ".py",
   "mimetype": "text/x-python",
   "name": "python",
   "nbconvert_exporter": "python",
   "pygments_lexer": "ipython3",
   "version": "3.9.7"
  }
 },
 "nbformat": 4,
 "nbformat_minor": 5
}
